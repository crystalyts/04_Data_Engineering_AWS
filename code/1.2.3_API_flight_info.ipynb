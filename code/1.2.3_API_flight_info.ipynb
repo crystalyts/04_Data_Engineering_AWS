{
 "cells": [
  {
   "cell_type": "code",
   "execution_count": 2,
   "id": "cd75abba-1ddf-4d00-9195-8b2056889468",
   "metadata": {},
   "outputs": [],
   "source": [
    "import pandas as pd\n",
    "from datetime import datetime, date, timedelta\n",
    "import requests\n",
    "from pytz import timezone"
   ]
  },
  {
   "cell_type": "code",
   "execution_count": 3,
   "id": "ccede890-324d-4f10-a4d7-40774ca7f03a",
   "metadata": {},
   "outputs": [],
   "source": [
    "from datetime import datetime"
   ]
  },
  {
   "cell_type": "code",
   "execution_count": 4,
   "id": "92f70ac4-a2c9-47f6-b3cb-0ffd9cfe3a88",
   "metadata": {},
   "outputs": [],
   "source": [
    "def tomorrows_flight_arrivals(icao_list):\n",
    "\n",
    "  today = datetime.now().astimezone(timezone('Europe/Berlin')).date()\n",
    "  tomorrow = (today + timedelta(days=1))\n",
    "\n",
    "  list_for_df = []\n",
    "\n",
    "  for icao in icao_list:\n",
    "    times = [[\"00:00\",\"11:59\"],[\"12:00\",\"23:59\"]]\n",
    "\n",
    "    for time in times:\n",
    "      url = f\"https://aerodatabox.p.rapidapi.com/flights/airports/icao/{icao}/{tomorrow}T{time[0]}/{tomorrow}T{time[1]}\"\n",
    "      querystring = {\"withLeg\":\"true\",\"direction\":\"Arrival\",\"withCancelled\":\"false\",\"withCodeshared\":\"true\",\"withCargo\":\"false\",\"withPrivate\":\"false\"}\n",
    "      headers = {\n",
    "          'x-rapidapi-host': \"aerodatabox.p.rapidapi.com\",\n",
    "          'x-rapidapi-key': \"ffc96c1d46msh923da3c4ad3aa34p1573f4jsn3227997df6b9\"\n",
    "          }\n",
    "      response = requests.request(\"GET\", url, headers=headers, params=querystring)\n",
    "      flights_json = response.json()\n",
    "\n",
    "      for flight in flights_json['arrivals']:\n",
    "        flights_dict = {}\n",
    "        flights_dict['arrival_icao'] = icao\n",
    "        # .get() is another way of ensuring our code doesn't break\n",
    "        # in the previous 2 notebooks you learnt about 'if' (cities) and 'try/except' (weather)\n",
    "        # .get() works similar, it will get the text if possible, if there is no text a None value will be inserted instead\n",
    "        flights_dict['flight_num'] = flight.get('number', None)\n",
    "        flights_dict['arrival_time'] = flight['arrival'].get('scheduledTimeLocal', None)\n",
    "        flights_dict['arrival_terminal'] = flight['arrival'].get('terminal', None)\n",
    "        flights_dict['departure_city'] = flight['departure']['airport'].get('name', None)\n",
    "        flights_dict['departure_icao'] = flight['departure']['airport'].get('icao', None)\n",
    "        flights_dict['airline'] = flight['airline'].get('name', None)\n",
    "        flights_dict['data_retrieved_on'] = datetime.now().astimezone(timezone('Europe/Berlin')).date()\n",
    "        list_for_df.append(flights_dict)\n",
    "\n",
    "  return pd.DataFrame(list_for_df)"
   ]
  },
  {
   "cell_type": "code",
   "execution_count": 5,
   "id": "61298a36-2077-4a38-900a-269c112a379c",
   "metadata": {},
   "outputs": [
    {
     "data": {
      "text/html": [
       "<div>\n",
       "<style scoped>\n",
       "    .dataframe tbody tr th:only-of-type {\n",
       "        vertical-align: middle;\n",
       "    }\n",
       "\n",
       "    .dataframe tbody tr th {\n",
       "        vertical-align: top;\n",
       "    }\n",
       "\n",
       "    .dataframe thead th {\n",
       "        text-align: right;\n",
       "    }\n",
       "</style>\n",
       "<table border=\"1\" class=\"dataframe\">\n",
       "  <thead>\n",
       "    <tr style=\"text-align: right;\">\n",
       "      <th></th>\n",
       "      <th>arrival_icao</th>\n",
       "      <th>flight_num</th>\n",
       "      <th>arrival_time</th>\n",
       "      <th>arrival_terminal</th>\n",
       "      <th>departure_city</th>\n",
       "      <th>departure_icao</th>\n",
       "      <th>airline</th>\n",
       "      <th>data_retrieved_on</th>\n",
       "    </tr>\n",
       "  </thead>\n",
       "  <tbody>\n",
       "    <tr>\n",
       "      <th>0</th>\n",
       "      <td>EDDB</td>\n",
       "      <td>QR 79</td>\n",
       "      <td>2023-03-15 06:50+01:00</td>\n",
       "      <td>1</td>\n",
       "      <td>Doha</td>\n",
       "      <td>OTHH</td>\n",
       "      <td>Qatar Airways</td>\n",
       "      <td>2023-03-14</td>\n",
       "    </tr>\n",
       "    <tr>\n",
       "      <th>1</th>\n",
       "      <td>EDDB</td>\n",
       "      <td>BT 211</td>\n",
       "      <td>2023-03-15 07:55+01:00</td>\n",
       "      <td>1</td>\n",
       "      <td>Riga</td>\n",
       "      <td>EVRA</td>\n",
       "      <td>Air Baltic</td>\n",
       "      <td>2023-03-14</td>\n",
       "    </tr>\n",
       "    <tr>\n",
       "      <th>2</th>\n",
       "      <td>EDDB</td>\n",
       "      <td>DL 92</td>\n",
       "      <td>2023-03-15 07:05+01:00</td>\n",
       "      <td>1</td>\n",
       "      <td>New York</td>\n",
       "      <td>KJFK</td>\n",
       "      <td>Delta Air Lines</td>\n",
       "      <td>2023-03-14</td>\n",
       "    </tr>\n",
       "    <tr>\n",
       "      <th>3</th>\n",
       "      <td>EDDB</td>\n",
       "      <td>EW 2002</td>\n",
       "      <td>2023-03-15 07:50+01:00</td>\n",
       "      <td>1</td>\n",
       "      <td>Stuttgart</td>\n",
       "      <td>EDDS</td>\n",
       "      <td>Eurowings</td>\n",
       "      <td>2023-03-14</td>\n",
       "    </tr>\n",
       "    <tr>\n",
       "      <th>4</th>\n",
       "      <td>EDDB</td>\n",
       "      <td>EW 9048</td>\n",
       "      <td>2023-03-15 07:35+01:00</td>\n",
       "      <td>1</td>\n",
       "      <td>Duesseldorf</td>\n",
       "      <td>EDDL</td>\n",
       "      <td>Eurowings</td>\n",
       "      <td>2023-03-14</td>\n",
       "    </tr>\n",
       "  </tbody>\n",
       "</table>\n",
       "</div>"
      ],
      "text/plain": [
       "  arrival_icao flight_num            arrival_time arrival_terminal  \\\n",
       "0         EDDB      QR 79  2023-03-15 06:50+01:00                1   \n",
       "1         EDDB     BT 211  2023-03-15 07:55+01:00                1   \n",
       "2         EDDB      DL 92  2023-03-15 07:05+01:00                1   \n",
       "3         EDDB    EW 2002  2023-03-15 07:50+01:00                1   \n",
       "4         EDDB    EW 9048  2023-03-15 07:35+01:00                1   \n",
       "\n",
       "  departure_city departure_icao          airline data_retrieved_on  \n",
       "0           Doha           OTHH    Qatar Airways        2023-03-14  \n",
       "1           Riga           EVRA       Air Baltic        2023-03-14  \n",
       "2       New York           KJFK  Delta Air Lines        2023-03-14  \n",
       "3      Stuttgart           EDDS        Eurowings        2023-03-14  \n",
       "4    Duesseldorf           EDDL        Eurowings        2023-03-14  "
      ]
     },
     "execution_count": 5,
     "metadata": {},
     "output_type": "execute_result"
    }
   ],
   "source": [
    "#test one first\n",
    "tomorrows_flight_arrivals(['EDDB']).head()"
   ]
  },
  {
   "cell_type": "code",
   "execution_count": null,
   "id": "7f6361de-f3cb-40e7-b46d-35b607a22ed5",
   "metadata": {},
   "outputs": [],
   "source": [
    "# add other airport later\n",
    "#tomorrows_flight_arrivals(['EDDB', 'EDDH', 'EDDF', 'EDDM', 'EDDS','EDDK','EDDV']).head()"
   ]
  },
  {
   "cell_type": "code",
   "execution_count": 28,
   "id": "644c2f88-2f79-434c-ab75-3d888d214364",
   "metadata": {},
   "outputs": [],
   "source": [
    "#convert to datetime data types\n",
    "flight_df['arrival_time'] = pd.to_datetime(flight_df['arrival_time'])\n",
    "flight_df['data_retrieved_on'] = pd.to_datetime(flight_df['data_retrieved_on'])"
   ]
  },
  {
   "cell_type": "code",
   "execution_count": 26,
   "id": "8f6845bd-9b71-4558-8f6a-c4959c255f8e",
   "metadata": {},
   "outputs": [],
   "source": [
    "flight_df = tomorrows_flight_arrivals(['EDDB']).head()"
   ]
  },
  {
   "cell_type": "code",
   "execution_count": 29,
   "id": "feb47842-d908-451f-bb42-4361415aaa3b",
   "metadata": {},
   "outputs": [
    {
     "name": "stdout",
     "output_type": "stream",
     "text": [
      "<class 'pandas.core.frame.DataFrame'>\n",
      "RangeIndex: 5 entries, 0 to 4\n",
      "Data columns (total 8 columns):\n",
      " #   Column             Non-Null Count  Dtype                               \n",
      "---  ------             --------------  -----                               \n",
      " 0   arrival_icao       5 non-null      object                              \n",
      " 1   flight_num         5 non-null      object                              \n",
      " 2   arrival_time       5 non-null      datetime64[ns, pytz.FixedOffset(60)]\n",
      " 3   arrival_terminal   5 non-null      object                              \n",
      " 4   departure_city     5 non-null      object                              \n",
      " 5   departure_icao     4 non-null      object                              \n",
      " 6   airline            5 non-null      object                              \n",
      " 7   data_retrieved_on  5 non-null      datetime64[ns]                      \n",
      "dtypes: datetime64[ns, pytz.FixedOffset(60)](1), datetime64[ns](1), object(6)\n",
      "memory usage: 448.0+ bytes\n"
     ]
    }
   ],
   "source": [
    "flight_df.info()"
   ]
  },
  {
   "cell_type": "code",
   "execution_count": null,
   "id": "6168841e-ab6b-43cf-b3c2-f7df63436d60",
   "metadata": {},
   "outputs": [],
   "source": []
  }
 ],
 "metadata": {
  "kernelspec": {
   "display_name": "Python 3 (ipykernel)",
   "language": "python",
   "name": "python3"
  },
  "language_info": {
   "codemirror_mode": {
    "name": "ipython",
    "version": 3
   },
   "file_extension": ".py",
   "mimetype": "text/x-python",
   "name": "python",
   "nbconvert_exporter": "python",
   "pygments_lexer": "ipython3",
   "version": "3.9.16"
  }
 },
 "nbformat": 4,
 "nbformat_minor": 5
}
