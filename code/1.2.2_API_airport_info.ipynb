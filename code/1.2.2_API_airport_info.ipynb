{
 "cells": [
  {
   "cell_type": "code",
   "execution_count": 1,
   "id": "5e4de43b-773b-4134-8b09-a05ef345f572",
   "metadata": {},
   "outputs": [],
   "source": [
    "import pandas as pd\n",
    "import requests\n",
    "from datetime import datetime\n",
    "import pytz"
   ]
  },
  {
   "cell_type": "code",
   "execution_count": 72,
   "id": "f0d9a5db-c639-416d-8649-d7aba1b0733b",
   "metadata": {},
   "outputs": [],
   "source": [
    "# cities = ['Berlin', 'Hamburg', 'Frankfurt','Munich','Stuttgart','Cologne','Hannover']"
   ]
  },
  {
   "cell_type": "code",
   "execution_count": 2,
   "id": "901ff711-695d-49e8-9376-21e430884f2b",
   "metadata": {},
   "outputs": [
    {
     "name": "stdout",
     "output_type": "stream",
     "text": [
      "{\"searchBy\":{\"lat\":52.31,\"lon\":13.24},\"items\":[{\"icao\":\"EDDB\",\"iata\":\"BER\",\"name\":\"Berlin, Berlin Brandenburg\",\"shortName\":\"Brandenburg\",\"municipalityName\":\"Berlin\",\"location\":{\"lat\":52.35139,\"lon\":13.493889},\"countryCode\":\"DE\"}]}\n"
     ]
    }
   ],
   "source": [
    "import requests\n",
    "\n",
    "url = \"https://aerodatabox.p.rapidapi.com/airports/search/location/52.31/13.24/km/50/16\"\n",
    "\n",
    "querystring = {\"withFlightInfoOnly\":\"true\"}\n",
    "\n",
    "headers = {\n",
    "\t\"X-RapidAPI-Key\": \"10dacbb09amshd249a3747f1fa23p143465jsn96e481f4c35e\",\n",
    "\t\"X-RapidAPI-Host\": \"aerodatabox.p.rapidapi.com\"\n",
    "}\n",
    "\n",
    "response = requests.request(\"GET\", url, headers=headers, params=querystring)\n",
    "\n",
    "print(response.text)"
   ]
  },
  {
   "cell_type": "code",
   "execution_count": 3,
   "id": "2e554797-6c21-4cef-b405-a4f71b664bbe",
   "metadata": {},
   "outputs": [
    {
     "data": {
      "text/plain": [
       "{'searchBy': {'lat': 52.31, 'lon': 13.24},\n",
       " 'items': [{'icao': 'EDDB',\n",
       "   'iata': 'BER',\n",
       "   'name': 'Berlin, Berlin Brandenburg',\n",
       "   'shortName': 'Brandenburg',\n",
       "   'municipalityName': 'Berlin',\n",
       "   'location': {'lat': 52.35139, 'lon': 13.493889},\n",
       "   'countryCode': 'DE'}]}"
      ]
     },
     "execution_count": 3,
     "metadata": {},
     "output_type": "execute_result"
    }
   ],
   "source": [
    "response.json()"
   ]
  },
  {
   "cell_type": "code",
   "execution_count": 4,
   "id": "d038ca35-af2e-4570-94d5-db635d0dad37",
   "metadata": {},
   "outputs": [],
   "source": [
    "airport_df=pd.json_normalize(response.json()['items'])"
   ]
  },
  {
   "cell_type": "code",
   "execution_count": 5,
   "id": "30ad7c91-d191-4a73-9e05-f676dab873ef",
   "metadata": {},
   "outputs": [
    {
     "data": {
      "text/html": [
       "<div>\n",
       "<style scoped>\n",
       "    .dataframe tbody tr th:only-of-type {\n",
       "        vertical-align: middle;\n",
       "    }\n",
       "\n",
       "    .dataframe tbody tr th {\n",
       "        vertical-align: top;\n",
       "    }\n",
       "\n",
       "    .dataframe thead th {\n",
       "        text-align: right;\n",
       "    }\n",
       "</style>\n",
       "<table border=\"1\" class=\"dataframe\">\n",
       "  <thead>\n",
       "    <tr style=\"text-align: right;\">\n",
       "      <th></th>\n",
       "      <th>icao</th>\n",
       "      <th>iata</th>\n",
       "      <th>name</th>\n",
       "      <th>shortName</th>\n",
       "      <th>municipalityName</th>\n",
       "      <th>countryCode</th>\n",
       "      <th>location.lat</th>\n",
       "      <th>location.lon</th>\n",
       "    </tr>\n",
       "  </thead>\n",
       "  <tbody>\n",
       "    <tr>\n",
       "      <th>0</th>\n",
       "      <td>EDDB</td>\n",
       "      <td>BER</td>\n",
       "      <td>Berlin, Berlin Brandenburg</td>\n",
       "      <td>Brandenburg</td>\n",
       "      <td>Berlin</td>\n",
       "      <td>DE</td>\n",
       "      <td>52.35139</td>\n",
       "      <td>13.493889</td>\n",
       "    </tr>\n",
       "  </tbody>\n",
       "</table>\n",
       "</div>"
      ],
      "text/plain": [
       "   icao iata                        name    shortName municipalityName  \\\n",
       "0  EDDB  BER  Berlin, Berlin Brandenburg  Brandenburg           Berlin   \n",
       "\n",
       "  countryCode  location.lat  location.lon  \n",
       "0          DE      52.35139     13.493889  "
      ]
     },
     "execution_count": 5,
     "metadata": {},
     "output_type": "execute_result"
    }
   ],
   "source": [
    "airport_df"
   ]
  },
  {
   "cell_type": "code",
   "execution_count": 6,
   "id": "262e2fda-61b3-45eb-bb04-bf0f3b9df773",
   "metadata": {},
   "outputs": [],
   "source": [
    "airport_df.drop(columns=['iata', 'shortName','municipalityName'], inplace=True)"
   ]
  },
  {
   "cell_type": "code",
   "execution_count": 7,
   "id": "b0e9f1c0-64bc-4d54-a692-0c6bed600840",
   "metadata": {},
   "outputs": [
    {
     "data": {
      "text/html": [
       "<div>\n",
       "<style scoped>\n",
       "    .dataframe tbody tr th:only-of-type {\n",
       "        vertical-align: middle;\n",
       "    }\n",
       "\n",
       "    .dataframe tbody tr th {\n",
       "        vertical-align: top;\n",
       "    }\n",
       "\n",
       "    .dataframe thead th {\n",
       "        text-align: right;\n",
       "    }\n",
       "</style>\n",
       "<table border=\"1\" class=\"dataframe\">\n",
       "  <thead>\n",
       "    <tr style=\"text-align: right;\">\n",
       "      <th></th>\n",
       "      <th>icao</th>\n",
       "      <th>name</th>\n",
       "      <th>countryCode</th>\n",
       "      <th>location.lat</th>\n",
       "      <th>location.lon</th>\n",
       "    </tr>\n",
       "  </thead>\n",
       "  <tbody>\n",
       "    <tr>\n",
       "      <th>0</th>\n",
       "      <td>EDDB</td>\n",
       "      <td>Berlin, Berlin Brandenburg</td>\n",
       "      <td>DE</td>\n",
       "      <td>52.35139</td>\n",
       "      <td>13.493889</td>\n",
       "    </tr>\n",
       "  </tbody>\n",
       "</table>\n",
       "</div>"
      ],
      "text/plain": [
       "   icao                        name countryCode  location.lat  location.lon\n",
       "0  EDDB  Berlin, Berlin Brandenburg          DE      52.35139     13.493889"
      ]
     },
     "execution_count": 7,
     "metadata": {},
     "output_type": "execute_result"
    }
   ],
   "source": [
    "airport_df"
   ]
  },
  {
   "cell_type": "code",
   "execution_count": 8,
   "id": "b72e97ef-86ef-4028-a4f7-229b19087132",
   "metadata": {},
   "outputs": [],
   "source": [
    "def icao_airport_codes(latitudes, longitudes):\n",
    "\n",
    "  #assert len(latitudes) == len(longitudes)\n",
    "  \n",
    "  list_for_df = []\n",
    "\n",
    "  for i in range(len(latitudes)):\n",
    "\n",
    "    url = f\"https://aerodatabox.p.rapidapi.com/airports/search/location/{latitudes[i]}/{longitudes[i]}/km/70/5\"\n",
    "\n",
    "    querystring = {\"withFlightInfoOnly\":\"true\"}\n",
    "\n",
    "    headers = {\n",
    "      \"X-RapidAPI-Host\": \"aerodatabox.p.rapidapi.com\",\n",
    "      \"X-RapidAPI-Key\": \"10dacbb09amshd249a3747f1fa23p143465jsn96e481f4c35e\"\n",
    "    }\n",
    "    \n",
    "\n",
    "    response = requests.request(\"GET\", url, headers=headers, params=querystring)\n",
    "    airport_json = response.json()\n",
    "    \n",
    "    airport_df = pd.json_normalize(airport_json['items'])\n",
    "    \n",
    "    airport_df.drop(columns=['iata', 'shortName','municipalityName'], inplace=True)\n",
    "    airport_df.rename(columns={'location.lat': 'latitude',\n",
    "                             'location.lon': 'longitude',\n",
    "                              'name': 'airport_name',\n",
    "                              'countryCode': 'country_code'},\n",
    "                    inplace=True)\n",
    "\n",
    "    list_for_df.append(airport_df)\n",
    "\n",
    "  return pd.concat(list_for_df, ignore_index=True)\n",
    "\n",
    "la = [52.3112, 53.33, 50.0638, 48.0815, 48.4639, 50.5611, 52.22]\n",
    "lo = [13.2418, 10.00, 08.4056, 11.3430, 09.1048, 6.5710, 9.43]"
   ]
  },
  {
   "cell_type": "code",
   "execution_count": 10,
   "id": "ed132e32-078f-4a76-bad1-6562663e9c7c",
   "metadata": {},
   "outputs": [
    {
     "data": {
      "text/html": [
       "<div>\n",
       "<style scoped>\n",
       "    .dataframe tbody tr th:only-of-type {\n",
       "        vertical-align: middle;\n",
       "    }\n",
       "\n",
       "    .dataframe tbody tr th {\n",
       "        vertical-align: top;\n",
       "    }\n",
       "\n",
       "    .dataframe thead th {\n",
       "        text-align: right;\n",
       "    }\n",
       "</style>\n",
       "<table border=\"1\" class=\"dataframe\">\n",
       "  <thead>\n",
       "    <tr style=\"text-align: right;\">\n",
       "      <th></th>\n",
       "      <th>icao</th>\n",
       "      <th>airport_name</th>\n",
       "      <th>country_code</th>\n",
       "      <th>latitude</th>\n",
       "      <th>longitude</th>\n",
       "    </tr>\n",
       "  </thead>\n",
       "  <tbody>\n",
       "    <tr>\n",
       "      <th>0</th>\n",
       "      <td>EDDB</td>\n",
       "      <td>Berlin, Berlin Brandenburg</td>\n",
       "      <td>DE</td>\n",
       "      <td>52.35139</td>\n",
       "      <td>13.493889</td>\n",
       "    </tr>\n",
       "    <tr>\n",
       "      <th>1</th>\n",
       "      <td>EDDH</td>\n",
       "      <td>Hamburg</td>\n",
       "      <td>DE</td>\n",
       "      <td>53.63040</td>\n",
       "      <td>9.988229</td>\n",
       "    </tr>\n",
       "    <tr>\n",
       "      <th>2</th>\n",
       "      <td>EDDF</td>\n",
       "      <td>Frankfurt-am-Main</td>\n",
       "      <td>DE</td>\n",
       "      <td>50.02640</td>\n",
       "      <td>8.543129</td>\n",
       "    </tr>\n",
       "    <tr>\n",
       "      <th>3</th>\n",
       "      <td>EDDM</td>\n",
       "      <td>Munich</td>\n",
       "      <td>DE</td>\n",
       "      <td>48.35380</td>\n",
       "      <td>11.786100</td>\n",
       "    </tr>\n",
       "    <tr>\n",
       "      <th>4</th>\n",
       "      <td>EDDS</td>\n",
       "      <td>Stuttgart</td>\n",
       "      <td>DE</td>\n",
       "      <td>48.68990</td>\n",
       "      <td>9.221960</td>\n",
       "    </tr>\n",
       "    <tr>\n",
       "      <th>5</th>\n",
       "      <td>EDDK</td>\n",
       "      <td>Cologne, Cologne Bonn</td>\n",
       "      <td>DE</td>\n",
       "      <td>50.86590</td>\n",
       "      <td>7.142739</td>\n",
       "    </tr>\n",
       "    <tr>\n",
       "      <th>6</th>\n",
       "      <td>EDDV</td>\n",
       "      <td>Hanover, Hannover</td>\n",
       "      <td>DE</td>\n",
       "      <td>52.46110</td>\n",
       "      <td>9.685079</td>\n",
       "    </tr>\n",
       "  </tbody>\n",
       "</table>\n",
       "</div>"
      ],
      "text/plain": [
       "   icao                airport_name country_code  latitude  longitude\n",
       "0  EDDB  Berlin, Berlin Brandenburg           DE  52.35139  13.493889\n",
       "1  EDDH                     Hamburg           DE  53.63040   9.988229\n",
       "2  EDDF           Frankfurt-am-Main           DE  50.02640   8.543129\n",
       "3  EDDM                      Munich           DE  48.35380  11.786100\n",
       "4  EDDS                   Stuttgart           DE  48.68990   9.221960\n",
       "5  EDDK       Cologne, Cologne Bonn           DE  50.86590   7.142739\n",
       "6  EDDV           Hanover, Hannover           DE  52.46110   9.685079"
      ]
     },
     "execution_count": 10,
     "metadata": {},
     "output_type": "execute_result"
    }
   ],
   "source": [
    "airport_df = icao_airport_codes(la,lo)\n",
    "airport_df"
   ]
  },
  {
   "cell_type": "code",
   "execution_count": null,
   "id": "aee0e75e-4450-4d76-8074-439a33e3c776",
   "metadata": {},
   "outputs": [],
   "source": []
  }
 ],
 "metadata": {
  "kernelspec": {
   "display_name": "Python 3 (ipykernel)",
   "language": "python",
   "name": "python3"
  },
  "language_info": {
   "codemirror_mode": {
    "name": "ipython",
    "version": 3
   },
   "file_extension": ".py",
   "mimetype": "text/x-python",
   "name": "python",
   "nbconvert_exporter": "python",
   "pygments_lexer": "ipython3",
   "version": "3.9.16"
  }
 },
 "nbformat": 4,
 "nbformat_minor": 5
}
